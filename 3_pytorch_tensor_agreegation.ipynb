{
  "nbformat": 4,
  "nbformat_minor": 0,
  "metadata": {
    "colab": {
      "provenance": []
    },
    "kernelspec": {
      "name": "python3",
      "display_name": "Python 3"
    },
    "language_info": {
      "name": "python"
    }
  },
  "cells": [
    {
      "cell_type": "markdown",
      "source": [
        "## Tensor Aggregation\n",
        "# min, max, avg"
      ],
      "metadata": {
        "id": "4qiuG7V8zm9s"
      }
    },
    {
      "cell_type": "code",
      "source": [
        "import torch"
      ],
      "metadata": {
        "id": "kou_4cQfzsJV"
      },
      "execution_count": 6,
      "outputs": []
    },
    {
      "cell_type": "code",
      "source": [
        "TENSOR = torch.rand(5, 3 ,4)\n",
        "\n",
        "print(\"---------TENSOR---------\")\n",
        "print(TENSOR)\n",
        "print(\"---------TENSOR---------\")"
      ],
      "metadata": {
        "colab": {
          "base_uri": "https://localhost:8080/"
        },
        "id": "hy71rabnz43B",
        "outputId": "ffae4e46-f869-4900-8df0-ea7b03426af0"
      },
      "execution_count": 7,
      "outputs": [
        {
          "output_type": "stream",
          "name": "stdout",
          "text": [
            "---------TENSOR---------\n",
            "tensor([[[0.0866, 0.2542, 0.2335, 0.0929],\n",
            "         [0.0755, 0.2122, 0.0778, 0.5980],\n",
            "         [0.3603, 0.6690, 0.8128, 0.2296]],\n",
            "\n",
            "        [[0.7478, 0.6686, 0.1507, 0.3097],\n",
            "         [0.8680, 0.6495, 0.7910, 0.0517],\n",
            "         [0.5594, 0.7504, 0.1396, 0.8109]],\n",
            "\n",
            "        [[0.8430, 0.9198, 0.4134, 0.2683],\n",
            "         [0.2357, 0.2250, 0.6621, 0.1330],\n",
            "         [0.0017, 0.0375, 0.6510, 0.1705]],\n",
            "\n",
            "        [[0.0606, 0.2016, 0.5988, 0.7576],\n",
            "         [0.0523, 0.2620, 0.1191, 0.0498],\n",
            "         [0.3784, 0.0736, 0.5558, 0.4359]],\n",
            "\n",
            "        [[0.4985, 0.3999, 0.8417, 0.2850],\n",
            "         [0.6473, 0.0283, 0.7325, 0.1542],\n",
            "         [0.8810, 0.0739, 0.3043, 0.9736]]])\n",
            "---------TENSOR---------\n"
          ]
        }
      ]
    },
    {
      "cell_type": "code",
      "source": [
        "print(TENSOR.min())\n",
        "print(TENSOR.max())\n",
        "print(TENSOR.mean())\n",
        "print(TENSOR.mean(dim=0))\n",
        "print(TENSOR.mean(dim=1))\n",
        "print(TENSOR.mean(dim=2))\n",
        "print(TENSOR.mean(dim=0).shape)\n",
        "print(TENSOR.mean(dim=1).shape)\n",
        "print(TENSOR.argmin())"
      ],
      "metadata": {
        "colab": {
          "base_uri": "https://localhost:8080/"
        },
        "id": "Vi44edjt0K8K",
        "outputId": "56d853bc-d400-4d48-fc8f-f7c908701aa2"
      },
      "execution_count": 11,
      "outputs": [
        {
          "output_type": "stream",
          "name": "stdout",
          "text": [
            "tensor(0.0017)\n",
            "tensor(0.9736)\n",
            "tensor(0.4021)\n",
            "tensor([[0.4473, 0.4888, 0.4476, 0.3427],\n",
            "        [0.3757, 0.2754, 0.4765, 0.1973],\n",
            "        [0.4362, 0.3209, 0.4927, 0.5241]])\n",
            "tensor([[0.1741, 0.3785, 0.3747, 0.3068],\n",
            "        [0.7251, 0.6895, 0.3604, 0.3908],\n",
            "        [0.3601, 0.3941, 0.5755, 0.1906],\n",
            "        [0.1638, 0.1791, 0.4245, 0.4144],\n",
            "        [0.6756, 0.1674, 0.6262, 0.4709]])\n",
            "tensor([[0.1668, 0.2409, 0.5179],\n",
            "        [0.4692, 0.5901, 0.5651],\n",
            "        [0.6111, 0.3140, 0.2152],\n",
            "        [0.4046, 0.1208, 0.3609],\n",
            "        [0.5063, 0.3906, 0.5582]])\n",
            "torch.Size([3, 4])\n",
            "torch.Size([5, 4])\n",
            "tensor(32)\n"
          ]
        }
      ]
    },
    {
      "cell_type": "code",
      "source": [],
      "metadata": {
        "id": "iy4b4-nr3jL0"
      },
      "execution_count": null,
      "outputs": []
    }
  ]
}