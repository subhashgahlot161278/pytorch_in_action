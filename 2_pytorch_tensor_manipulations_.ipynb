{
  "nbformat": 4,
  "nbformat_minor": 0,
  "metadata": {
    "colab": {
      "provenance": [],
      "gpuType": "V28"
    },
    "kernelspec": {
      "name": "python3",
      "display_name": "Python 3"
    },
    "language_info": {
      "name": "python"
    },
    "accelerator": "TPU"
  },
  "cells": [
    {
      "cell_type": "markdown",
      "source": [
        "## Tensor operations"
      ],
      "metadata": {
        "id": "4xqdtuysCB14"
      }
    },
    {
      "cell_type": "code",
      "source": [
        "# Manipulation Tensors\n",
        "# addition\n",
        "# Subtraction\n",
        "# Multiplication\n",
        "# division"
      ],
      "metadata": {
        "id": "WTu9nLTYCoYI"
      },
      "execution_count": 1,
      "outputs": []
    },
    {
      "cell_type": "code",
      "source": [
        "import torch"
      ],
      "metadata": {
        "id": "bSd8HyhRD3Ju"
      },
      "execution_count": 2,
      "outputs": []
    },
    {
      "cell_type": "code",
      "source": [
        "# Addition\n",
        "tensor_1 = torch.tensor([1,2,3])\n",
        "tensor_2 = torch.tensor([[4,5,6], [7,8,9], [1,1,1]])\n",
        "tensor_3 = torch.tensor([4,5,6])\n",
        "\n",
        "tensor_3 = tensor_1 + tensor_2 + tensor_3\n",
        "print(tensor_3)\n",
        "\n",
        "tensor_3 = tensor_3 + 10\n",
        "\n",
        "print(tensor_3)\n"
      ],
      "metadata": {
        "colab": {
          "base_uri": "https://localhost:8080/"
        },
        "id": "i6jmt7cHC4g8",
        "outputId": "bdc9ef6d-4ead-46d9-c323-77496eda7a82"
      },
      "execution_count": 3,
      "outputs": [
        {
          "output_type": "stream",
          "name": "stdout",
          "text": [
            "tensor([[ 9, 12, 15],\n",
            "        [12, 15, 18],\n",
            "        [ 6,  8, 10]])\n",
            "tensor([[19, 22, 25],\n",
            "        [22, 25, 28],\n",
            "        [16, 18, 20]])\n"
          ]
        }
      ]
    },
    {
      "cell_type": "code",
      "source": [],
      "metadata": {
        "id": "kh_z2VkoHgrP"
      },
      "execution_count": 3,
      "outputs": []
    },
    {
      "cell_type": "code",
      "source": [
        "## Subtraction\n",
        "\n",
        "print(\"tensor_3 = \", tensor_3)\n",
        "print(\"tensor_2 = \", tensor_2)\n",
        "print(\"tensor_1 = \", tensor_1)\n",
        "\n",
        "\n",
        "print(\"tensor_3 -10 = \", tensor_3 - 10)\n",
        "\n",
        "print(\"tensor_3 - 10 - tensor_2 = \", tensor_3 - 10 - tensor_2)\n",
        "\n",
        "print(\"tensor_3 - 10 - tensor_2 - tensor_1 = \", tensor_3 - 10 - tensor_2 - tensor_1)\n",
        "\n",
        "\n"
      ],
      "metadata": {
        "colab": {
          "base_uri": "https://localhost:8080/"
        },
        "id": "jFhw4yz3HdVF",
        "outputId": "45c6392d-43ee-47b3-c384-aac58fcfa437"
      },
      "execution_count": 4,
      "outputs": [
        {
          "output_type": "stream",
          "name": "stdout",
          "text": [
            "tensor_3 =  tensor([[19, 22, 25],\n",
            "        [22, 25, 28],\n",
            "        [16, 18, 20]])\n",
            "tensor_2 =  tensor([[4, 5, 6],\n",
            "        [7, 8, 9],\n",
            "        [1, 1, 1]])\n",
            "tensor_1 =  tensor([1, 2, 3])\n",
            "tensor_3 -10 =  tensor([[ 9, 12, 15],\n",
            "        [12, 15, 18],\n",
            "        [ 6,  8, 10]])\n",
            "tensor_3 - 10 - tensor_2 =  tensor([[5, 7, 9],\n",
            "        [5, 7, 9],\n",
            "        [5, 7, 9]])\n",
            "tensor_3 - 10 - tensor_2 - tensor_1 =  tensor([[4, 5, 6],\n",
            "        [4, 5, 6],\n",
            "        [4, 5, 6]])\n"
          ]
        }
      ]
    },
    {
      "cell_type": "code",
      "source": [
        "## Multiply\n",
        "\n",
        "print(\"tensor_3 = \", tensor_3)\n",
        "print(\"tensor_2 = \", tensor_2)\n",
        "print(\"tensor_1 = \", tensor_1)\n",
        "\n",
        "# print(\"tensor_3 *10 = \", tensor_3 * 10)\n",
        "\n",
        "print(\"tensor_3 * tensor_2 = \", tensor_3 * tensor_2)\n",
        "\n",
        "\n",
        "print(\"tensor_3 * tensor_1 = \", tensor_3 * tensor_1)\n"
      ],
      "metadata": {
        "colab": {
          "base_uri": "https://localhost:8080/"
        },
        "id": "dMudAKyuIYxh",
        "outputId": "425aa63a-b1d7-4f8f-af2e-56418e18131f"
      },
      "execution_count": 5,
      "outputs": [
        {
          "output_type": "stream",
          "name": "stdout",
          "text": [
            "tensor_3 =  tensor([[19, 22, 25],\n",
            "        [22, 25, 28],\n",
            "        [16, 18, 20]])\n",
            "tensor_2 =  tensor([[4, 5, 6],\n",
            "        [7, 8, 9],\n",
            "        [1, 1, 1]])\n",
            "tensor_1 =  tensor([1, 2, 3])\n",
            "tensor_3 * tensor_2 =  tensor([[ 76, 110, 150],\n",
            "        [154, 200, 252],\n",
            "        [ 16,  18,  20]])\n",
            "tensor_3 * tensor_1 =  tensor([[19, 44, 75],\n",
            "        [22, 50, 84],\n",
            "        [16, 36, 60]])\n"
          ]
        }
      ]
    },
    {
      "cell_type": "code",
      "source": [
        "## divide\n",
        "\n",
        "print(\"tensor_3 = \")\n",
        "print(tensor_3)\n",
        "print(\"tensor_2 = \")\n",
        "print(tensor_2)\n",
        "print(\"tensor_1 = \")\n",
        "print(tensor_1)\n",
        "\n",
        "print(\"tensor_3 /10 = \", tensor_3 /10)\n",
        "\n",
        "print(\"tensor_3 /tensor 2 = \", tensor_3 /tensor_2)\n",
        "\n",
        "\n",
        "print(\"tensor_3 /1+2= \", (tensor_3 /torch.tensor([1,2,3])))"
      ],
      "metadata": {
        "colab": {
          "base_uri": "https://localhost:8080/"
        },
        "id": "Zo15wr9_JVNZ",
        "outputId": "8f8f1866-c7e8-4221-f7ea-50d562e8db44"
      },
      "execution_count": 6,
      "outputs": [
        {
          "output_type": "stream",
          "name": "stdout",
          "text": [
            "tensor_3 = \n",
            "tensor([[19, 22, 25],\n",
            "        [22, 25, 28],\n",
            "        [16, 18, 20]])\n",
            "tensor_2 = \n",
            "tensor([[4, 5, 6],\n",
            "        [7, 8, 9],\n",
            "        [1, 1, 1]])\n",
            "tensor_1 = \n",
            "tensor([1, 2, 3])\n",
            "tensor_3 /10 =  tensor([[1.9000, 2.2000, 2.5000],\n",
            "        [2.2000, 2.5000, 2.8000],\n",
            "        [1.6000, 1.8000, 2.0000]])\n",
            "tensor_3 /tensor 2 =  tensor([[ 4.7500,  4.4000,  4.1667],\n",
            "        [ 3.1429,  3.1250,  3.1111],\n",
            "        [16.0000, 18.0000, 20.0000]])\n",
            "tensor_3 /1+2=  tensor([[19.0000, 11.0000,  8.3333],\n",
            "        [22.0000, 12.5000,  9.3333],\n",
            "        [16.0000,  9.0000,  6.6667]])\n"
          ]
        }
      ]
    },
    {
      "cell_type": "code",
      "source": [
        "# dot product (matric multiplication)\n",
        "%%time\n",
        "tensor_1 = torch.tensor([1, 2, 3])\n",
        "tensor_2 = torch.tensor([[1], [2], [3]])\n",
        "\n",
        "print(tensor_1 , \" * \", tensor_2, \" = \", torch.matmul(tensor_1, tensor_2))\n",
        "print(\"----\")\n",
        "print(tensor_1 , \" * \", tensor_2, \" = \", torch.mul(tensor_1, tensor_2))"
      ],
      "metadata": {
        "colab": {
          "base_uri": "https://localhost:8080/"
        },
        "id": "BR9ZGHaoKdMT",
        "outputId": "5be928ab-fd02-4eec-ce54-ac78c928ebf3"
      },
      "execution_count": 7,
      "outputs": [
        {
          "output_type": "stream",
          "name": "stdout",
          "text": [
            "tensor([1, 2, 3])  *  tensor([[1],\n",
            "        [2],\n",
            "        [3]])  =  tensor([14])\n",
            "----\n",
            "tensor([1, 2, 3])  *  tensor([[1],\n",
            "        [2],\n",
            "        [3]])  =  tensor([[1, 2, 3],\n",
            "        [2, 4, 6],\n",
            "        [3, 6, 9]])\n",
            "CPU times: user 989 µs, sys: 1.84 ms, total: 2.82 ms\n",
            "Wall time: 6.32 ms\n"
          ]
        }
      ]
    },
    {
      "cell_type": "code",
      "source": [
        "tensor_1 = torch.tensor([[1, 2, 3], [2, 4, 5]])\n",
        "\n",
        "\n",
        "print(tensor_1.mT)"
      ],
      "metadata": {
        "colab": {
          "base_uri": "https://localhost:8080/"
        },
        "id": "NnffDWQuNiE4",
        "outputId": "7c2232d0-3ca3-479f-c21b-d7319bdaae58"
      },
      "execution_count": 10,
      "outputs": [
        {
          "output_type": "stream",
          "name": "stdout",
          "text": [
            "tensor([[1, 2],\n",
            "        [2, 4],\n",
            "        [3, 5]])\n"
          ]
        }
      ]
    },
    {
      "cell_type": "code",
      "source": [],
      "metadata": {
        "id": "z5jK-PM9y0eH"
      },
      "execution_count": null,
      "outputs": []
    }
  ]
}