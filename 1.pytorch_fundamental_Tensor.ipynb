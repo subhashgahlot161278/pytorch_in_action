{
  "nbformat": 4,
  "nbformat_minor": 0,
  "metadata": {
    "colab": {
      "provenance": [],
      "gpuType": "T4"
    },
    "kernelspec": {
      "name": "python3",
      "display_name": "Python 3"
    },
    "language_info": {
      "name": "python"
    },
    "accelerator": "GPU"
  },
  "cells": [
    {
      "cell_type": "code",
      "source": [
        "## Pytorch fundamental Tensor Fundamentals"
      ],
      "metadata": {
        "id": "FVXq7n9Cf8Wm"
      },
      "execution_count": 1,
      "outputs": []
    },
    {
      "cell_type": "code",
      "execution_count": 2,
      "metadata": {
        "colab": {
          "base_uri": "https://localhost:8080/"
        },
        "id": "Z7nDpL7se8bx",
        "outputId": "41c9c733-5e05-40db-e559-e0a2c7987c7a"
      },
      "outputs": [
        {
          "output_type": "stream",
          "name": "stdout",
          "text": [
            "This is my first goole program\n"
          ]
        }
      ],
      "source": [
        "print (\"This is my first goole program\")"
      ]
    },
    {
      "cell_type": "code",
      "source": [
        "!nvidia-smi"
      ],
      "metadata": {
        "colab": {
          "base_uri": "https://localhost:8080/"
        },
        "id": "m3Bjv7uwfUZe",
        "outputId": "6d56c3c7-c946-4220-860b-aba40da2ad2e"
      },
      "execution_count": 3,
      "outputs": [
        {
          "output_type": "stream",
          "name": "stdout",
          "text": [
            "Sat Jul 26 18:18:39 2025       \n",
            "+-----------------------------------------------------------------------------------------+\n",
            "| NVIDIA-SMI 550.54.15              Driver Version: 550.54.15      CUDA Version: 12.4     |\n",
            "|-----------------------------------------+------------------------+----------------------+\n",
            "| GPU  Name                 Persistence-M | Bus-Id          Disp.A | Volatile Uncorr. ECC |\n",
            "| Fan  Temp   Perf          Pwr:Usage/Cap |           Memory-Usage | GPU-Util  Compute M. |\n",
            "|                                         |                        |               MIG M. |\n",
            "|=========================================+========================+======================|\n",
            "|   0  Tesla T4                       Off |   00000000:00:04.0 Off |                    0 |\n",
            "| N/A   44C    P8             10W /   70W |       0MiB /  15360MiB |      0%      Default |\n",
            "|                                         |                        |                  N/A |\n",
            "+-----------------------------------------+------------------------+----------------------+\n",
            "                                                                                         \n",
            "+-----------------------------------------------------------------------------------------+\n",
            "| Processes:                                                                              |\n",
            "|  GPU   GI   CI        PID   Type   Process name                              GPU Memory |\n",
            "|        ID   ID                                                               Usage      |\n",
            "|=========================================================================================|\n",
            "|  No running processes found                                                             |\n",
            "+-----------------------------------------------------------------------------------------+\n"
          ]
        }
      ]
    },
    {
      "cell_type": "code",
      "source": [
        "import torch\n",
        "print (torch.__version__)"
      ],
      "metadata": {
        "colab": {
          "base_uri": "https://localhost:8080/"
        },
        "id": "c-uncLQ0fttV",
        "outputId": "8c3de981-6363-4f74-8264-cd429812053d"
      },
      "execution_count": 4,
      "outputs": [
        {
          "output_type": "stream",
          "name": "stdout",
          "text": [
            "2.6.0+cu124\n"
          ]
        }
      ]
    },
    {
      "cell_type": "code",
      "source": [
        "## Introduction to Tensor\n",
        "\n",
        "# Scalar\n",
        "\n",
        "scalar = torch.tensor(7)\n",
        "print(scalar)\n",
        "print(scalar.ndim)\n",
        "print(scalar.item())\n",
        "\n",
        "# Vector\n",
        "vector = torch.tensor([8, 8])\n",
        "print(vector)\n",
        "print(vector.ndim)\n",
        "print(vector.shape)\n",
        "\n",
        "# matrix\n",
        "matrix = torch.tensor([ [1, 2, 2],\n",
        "                        [3, 4, 3],\n",
        "                        [5, 6, 8],\n",
        "                        [2, 4, 5]])\n",
        "\n",
        "print(matrix)\n",
        "print(\"dimension = \", matrix.ndim)\n",
        "print(\"shape = \", matrix.shape)\n",
        "print(\" matrix[0] = \", matrix[0])\n",
        "print(\" matrix[0][0] = \", matrix[0][0])\n",
        "print(\" matrix[0][0].item() = \", matrix[0][0].item())\n",
        "print(\" matrix[1] = \", matrix[1])\n",
        "\n",
        "### Creating Tensors"
      ],
      "metadata": {
        "colab": {
          "base_uri": "https://localhost:8080/"
        },
        "id": "Tu27ft3hghEs",
        "outputId": "f4b46aeb-d24c-4a21-fab7-6da3d5404861"
      },
      "execution_count": 5,
      "outputs": [
        {
          "output_type": "stream",
          "name": "stdout",
          "text": [
            "tensor(7)\n",
            "0\n",
            "7\n",
            "tensor([8, 8])\n",
            "1\n",
            "torch.Size([2])\n",
            "tensor([[1, 2, 2],\n",
            "        [3, 4, 3],\n",
            "        [5, 6, 8],\n",
            "        [2, 4, 5]])\n",
            "dimension =  2\n",
            "shape =  torch.Size([4, 3])\n",
            " matrix[0] =  tensor([1, 2, 2])\n",
            " matrix[0][0] =  tensor(1)\n",
            " matrix[0][0].item() =  1\n",
            " matrix[1] =  tensor([3, 4, 3])\n"
          ]
        }
      ]
    },
    {
      "cell_type": "code",
      "source": [
        "TENSOR = torch.tensor([[ [1, 2, 3],\n",
        "                         [4, 5, 6],\n",
        "                         [7, 8, 9],\n",
        "                         [7, 8, 9]],\n",
        "                       [ [1, 2, 3],\n",
        "                         [4, 5, 6],\n",
        "                         [7, 8, 9],\n",
        "                         [7, 8, 9]],\n",
        "                       [ [1, 2, 3],\n",
        "                         [4, 5, 6],\n",
        "                         [7, 8, 9],\n",
        "                         [7, 8, 9]],\n",
        "                       [ [1, 2, 3],\n",
        "                         [4, 5, 6],\n",
        "                         [7, 8, 9],\n",
        "                         [7, 8, 9]]\n",
        "                      ])\n",
        "print(TENSOR)\n",
        "print(\"dimension = \", TENSOR.ndim)\n",
        "print(\"shape = \", TENSOR.shape)"
      ],
      "metadata": {
        "colab": {
          "base_uri": "https://localhost:8080/"
        },
        "id": "3KozCzBWhg8U",
        "outputId": "05cf9791-880a-423b-c22e-2db789ae498f"
      },
      "execution_count": 6,
      "outputs": [
        {
          "output_type": "stream",
          "name": "stdout",
          "text": [
            "tensor([[[1, 2, 3],\n",
            "         [4, 5, 6],\n",
            "         [7, 8, 9],\n",
            "         [7, 8, 9]],\n",
            "\n",
            "        [[1, 2, 3],\n",
            "         [4, 5, 6],\n",
            "         [7, 8, 9],\n",
            "         [7, 8, 9]],\n",
            "\n",
            "        [[1, 2, 3],\n",
            "         [4, 5, 6],\n",
            "         [7, 8, 9],\n",
            "         [7, 8, 9]],\n",
            "\n",
            "        [[1, 2, 3],\n",
            "         [4, 5, 6],\n",
            "         [7, 8, 9],\n",
            "         [7, 8, 9]]])\n",
            "dimension =  3\n",
            "shape =  torch.Size([4, 4, 3])\n"
          ]
        }
      ]
    },
    {
      "cell_type": "code",
      "source": [
        "### Random Tensor\n",
        "RANDOM_TENSOR = torch.rand(3, 4, 6, 7)\n",
        "print(RANDOM_TENSOR)\n",
        "print(\"dimension = \", RANDOM_TENSOR.ndim)\n",
        "print(\"shape = \", RANDOM_TENSOR.shape)"
      ],
      "metadata": {
        "colab": {
          "base_uri": "https://localhost:8080/"
        },
        "id": "QUIz_jgUprCk",
        "outputId": "45b2b9dc-e4bb-479a-88ab-f33fa5eddba6"
      },
      "execution_count": 7,
      "outputs": [
        {
          "output_type": "stream",
          "name": "stdout",
          "text": [
            "tensor([[[[0.3130, 0.2867, 0.6386, 0.2674, 0.3201, 0.6729, 0.9988],\n",
            "          [0.2582, 0.6320, 0.5355, 0.9253, 0.9853, 0.0965, 0.2433],\n",
            "          [0.2685, 0.9189, 0.9426, 0.0492, 0.1385, 0.5816, 0.8072],\n",
            "          [0.6673, 0.9216, 0.5647, 0.2512, 0.5174, 0.0101, 0.2436],\n",
            "          [0.4922, 0.5328, 0.0293, 0.6707, 0.2628, 0.9251, 0.0299],\n",
            "          [0.9149, 0.3899, 0.5104, 0.0109, 0.2242, 0.7929, 0.6767]],\n",
            "\n",
            "         [[0.7086, 0.2870, 0.0402, 0.2089, 0.1597, 0.4982, 0.2182],\n",
            "          [0.0486, 0.9167, 0.6117, 0.5206, 0.4368, 0.6891, 0.2609],\n",
            "          [0.7343, 0.5967, 0.2959, 0.3167, 0.3923, 0.2348, 0.4806],\n",
            "          [0.6080, 0.8020, 0.4640, 0.3081, 0.2772, 0.4390, 0.5253],\n",
            "          [0.6794, 0.6166, 0.1285, 0.6878, 0.0376, 0.5084, 0.9795],\n",
            "          [0.4964, 0.3802, 0.8309, 0.3115, 0.0448, 0.1691, 0.3951]],\n",
            "\n",
            "         [[0.2506, 0.0933, 0.5658, 0.8922, 0.6111, 0.7799, 0.4773],\n",
            "          [0.1241, 0.8461, 0.0883, 0.7998, 0.9711, 0.1930, 0.6929],\n",
            "          [0.9274, 0.7446, 0.2721, 0.3139, 0.3111, 0.8047, 0.2782],\n",
            "          [0.6917, 0.5706, 0.5243, 0.5602, 0.4075, 0.6984, 0.9131],\n",
            "          [0.1318, 0.8899, 0.3801, 0.7398, 0.5459, 0.0436, 0.3706],\n",
            "          [0.4629, 0.0864, 0.7686, 0.0915, 0.1905, 0.0987, 0.4756]],\n",
            "\n",
            "         [[0.0616, 0.3755, 0.9874, 0.0886, 0.8977, 0.8259, 0.9759],\n",
            "          [0.6908, 0.1013, 0.4269, 0.9443, 0.2727, 0.3977, 0.4064],\n",
            "          [0.7257, 0.3632, 0.4260, 0.9178, 0.7066, 0.5343, 0.9528],\n",
            "          [0.5113, 0.5514, 0.4506, 0.2149, 0.1343, 0.9418, 0.6696],\n",
            "          [0.7448, 0.4872, 0.2078, 0.3678, 0.9310, 0.1830, 0.1705],\n",
            "          [0.2482, 0.7137, 0.9450, 0.9765, 0.6878, 0.9733, 0.2764]]],\n",
            "\n",
            "\n",
            "        [[[0.1506, 0.1935, 0.8483, 0.6596, 0.6177, 0.1120, 0.0656],\n",
            "          [0.9853, 0.3419, 0.4155, 0.2201, 0.1724, 0.3651, 0.3342],\n",
            "          [0.0222, 0.8261, 0.7856, 0.2387, 0.9698, 0.8542, 0.6229],\n",
            "          [0.1675, 0.5566, 0.4910, 0.8819, 0.5288, 0.9338, 0.9457],\n",
            "          [0.5301, 0.6256, 0.8874, 0.9723, 0.1164, 0.3722, 0.3299],\n",
            "          [0.0076, 0.4560, 0.6014, 0.2838, 0.2418, 0.3522, 0.9465]],\n",
            "\n",
            "         [[0.8707, 0.9794, 0.9988, 0.7116, 0.6920, 0.2237, 0.5395],\n",
            "          [0.4959, 0.7535, 0.7814, 0.7432, 0.0318, 0.9187, 0.6636],\n",
            "          [0.5846, 0.9133, 0.1876, 0.8355, 0.4375, 0.2313, 0.0033],\n",
            "          [0.6378, 0.6846, 0.2126, 0.2487, 0.7741, 0.8239, 0.9001],\n",
            "          [0.3336, 0.8403, 0.6189, 0.1818, 0.1831, 0.4513, 0.9195],\n",
            "          [0.9455, 0.3328, 0.8587, 0.0592, 0.9006, 0.4977, 0.3193]],\n",
            "\n",
            "         [[0.0088, 0.8791, 0.4194, 0.3225, 0.0532, 0.2566, 0.0341],\n",
            "          [0.8139, 0.8166, 0.5262, 0.1973, 0.2018, 0.6228, 0.6104],\n",
            "          [0.0438, 0.6014, 0.3385, 0.8258, 0.3648, 0.6791, 0.0532],\n",
            "          [0.0433, 0.9142, 0.9175, 0.4090, 0.7726, 0.9075, 0.8982],\n",
            "          [0.3068, 0.5890, 0.5064, 0.3799, 0.3650, 0.1988, 0.0825],\n",
            "          [0.3948, 0.3617, 0.4241, 0.5525, 0.5980, 0.7706, 0.6011]],\n",
            "\n",
            "         [[0.7116, 0.0742, 0.1331, 0.7787, 0.0359, 0.4920, 0.9236],\n",
            "          [0.9307, 0.7758, 0.5262, 0.9887, 0.5842, 0.6576, 0.5258],\n",
            "          [0.0667, 0.0117, 0.0177, 0.8898, 0.5502, 0.5391, 0.9020],\n",
            "          [0.7465, 0.8495, 0.0483, 0.8173, 0.3012, 0.5543, 0.6403],\n",
            "          [0.6256, 0.2000, 0.8113, 0.8728, 0.6542, 0.6367, 0.6091],\n",
            "          [0.8508, 0.1638, 0.3311, 0.8737, 0.4829, 0.7886, 0.1267]]],\n",
            "\n",
            "\n",
            "        [[[0.5408, 0.8289, 0.1168, 0.2526, 0.8549, 0.5756, 0.9978],\n",
            "          [0.2671, 0.0216, 0.3349, 0.6104, 0.0722, 0.3461, 0.7890],\n",
            "          [0.7807, 0.4844, 0.2892, 0.5125, 0.4789, 0.7337, 0.8703],\n",
            "          [0.6249, 0.9882, 0.8699, 0.1573, 0.9045, 0.0569, 0.3384],\n",
            "          [0.6342, 0.8493, 0.1441, 0.9136, 0.7853, 0.5600, 0.3445],\n",
            "          [0.3026, 0.1442, 0.6736, 0.5764, 0.1873, 0.3895, 0.4225]],\n",
            "\n",
            "         [[0.0025, 0.0290, 0.4964, 0.3985, 0.5493, 0.3210, 0.7824],\n",
            "          [0.5203, 0.7475, 0.6450, 0.2103, 0.7761, 0.3960, 0.8347],\n",
            "          [0.3648, 0.4538, 0.7539, 0.8672, 0.0162, 0.3062, 0.0017],\n",
            "          [0.5454, 0.3509, 0.3884, 0.2324, 0.2971, 0.7271, 0.4428],\n",
            "          [0.6276, 0.8962, 0.6489, 0.7528, 0.3415, 0.6285, 0.2617],\n",
            "          [0.4662, 0.8607, 0.6627, 0.0842, 0.2256, 0.5309, 0.7564]],\n",
            "\n",
            "         [[0.0584, 0.5803, 0.6654, 0.6215, 0.4783, 0.7909, 0.6918],\n",
            "          [0.4425, 0.6019, 0.9309, 0.5484, 0.2474, 0.8382, 0.3089],\n",
            "          [0.0884, 0.0630, 0.7755, 0.7340, 0.7907, 0.2572, 0.5308],\n",
            "          [0.0560, 0.5933, 0.3984, 0.6273, 0.8764, 0.5640, 0.3181],\n",
            "          [0.1207, 0.2583, 0.6842, 0.1498, 0.8218, 0.8373, 0.8822],\n",
            "          [0.8495, 0.4805, 0.2875, 0.5140, 0.1936, 0.3819, 0.2305]],\n",
            "\n",
            "         [[0.3357, 0.5325, 0.6849, 0.6345, 0.4739, 0.4652, 0.3097],\n",
            "          [0.4395, 0.3000, 0.5575, 0.9727, 0.4731, 0.4470, 0.0880],\n",
            "          [0.3139, 0.2256, 0.7553, 0.8675, 0.6426, 0.0563, 0.0966],\n",
            "          [0.7226, 0.0572, 0.5479, 0.1690, 0.6292, 0.3818, 0.4890],\n",
            "          [0.2105, 0.8472, 0.8005, 0.4134, 0.2538, 0.9405, 0.7771],\n",
            "          [0.2187, 0.3175, 0.8320, 0.7917, 0.7593, 0.8159, 0.1406]]]])\n",
            "dimension =  4\n",
            "shape =  torch.Size([3, 4, 6, 7])\n"
          ]
        }
      ]
    },
    {
      "cell_type": "code",
      "source": [
        "TENSOR_RANDOM_VECOR = torch.rand(3)\n",
        "print(TENSOR_RANDOM_VECOR)\n",
        "print(\"dimension = \", TENSOR_RANDOM_VECOR.ndim)\n",
        "print(\"shape = \", TENSOR_RANDOM_VECOR.shape)"
      ],
      "metadata": {
        "colab": {
          "base_uri": "https://localhost:8080/"
        },
        "id": "d4HclcJctHCo",
        "outputId": "19727f0e-5e3e-4d71-8067-0c070a3d4849"
      },
      "execution_count": 8,
      "outputs": [
        {
          "output_type": "stream",
          "name": "stdout",
          "text": [
            "tensor([0.5568, 0.5156, 0.1818])\n",
            "dimension =  1\n",
            "shape =  torch.Size([3])\n"
          ]
        }
      ]
    },
    {
      "cell_type": "code",
      "source": [
        "TENSOR_RANDOM_MATRIX = torch.rand(3, 4)\n",
        "print(TENSOR_RANDOM_MATRIX)\n",
        "print(\"dimension = \", TENSOR_RANDOM_MATRIX.ndim)\n",
        "print(\"shape = \", TENSOR_RANDOM_MATRIX.shape)"
      ],
      "metadata": {
        "colab": {
          "base_uri": "https://localhost:8080/"
        },
        "id": "W_t9x8BtuUTU",
        "outputId": "cf4047c8-ea22-441d-9020-bdb758ad6f4c"
      },
      "execution_count": 9,
      "outputs": [
        {
          "output_type": "stream",
          "name": "stdout",
          "text": [
            "tensor([[0.8528, 0.1202, 0.7525, 0.8128],\n",
            "        [0.1402, 0.7622, 0.0503, 0.1856],\n",
            "        [0.8355, 0.9745, 0.3790, 0.1624]])\n",
            "dimension =  2\n",
            "shape =  torch.Size([3, 4])\n"
          ]
        }
      ]
    },
    {
      "cell_type": "code",
      "source": [
        "## Create an image Tensor. Image has Color (RGB), height and width\n",
        "IMAGE_TENSOR = torch.rand(224, 224, 3)\n",
        "print(IMAGE_TENSOR)\n",
        "print(\"dimension = \", IMAGE_TENSOR.ndim)\n",
        "print(\"shape = \", IMAGE_TENSOR.shape)"
      ],
      "metadata": {
        "colab": {
          "base_uri": "https://localhost:8080/"
        },
        "id": "j1UQiR3UugTV",
        "outputId": "10e14cec-f502-4018-bec9-ecad3a07f12e"
      },
      "execution_count": 10,
      "outputs": [
        {
          "output_type": "stream",
          "name": "stdout",
          "text": [
            "tensor([[[0.2415, 0.3940, 0.4955],\n",
            "         [0.3533, 0.9655, 0.5482],\n",
            "         [0.7107, 0.2764, 0.9302],\n",
            "         ...,\n",
            "         [0.0243, 0.6932, 0.5530],\n",
            "         [0.7045, 0.7321, 0.9265],\n",
            "         [0.9524, 0.7786, 0.7403]],\n",
            "\n",
            "        [[0.7662, 0.1282, 0.0435],\n",
            "         [0.9624, 0.9296, 0.9268],\n",
            "         [0.8507, 0.7944, 0.3344],\n",
            "         ...,\n",
            "         [0.7600, 0.3298, 0.1074],\n",
            "         [0.7109, 0.7452, 0.2795],\n",
            "         [0.5285, 0.5147, 0.4391]],\n",
            "\n",
            "        [[0.4004, 0.3392, 0.3193],\n",
            "         [0.5617, 0.9505, 0.7260],\n",
            "         [0.3316, 0.6089, 0.1654],\n",
            "         ...,\n",
            "         [0.7853, 0.6129, 0.8901],\n",
            "         [0.2073, 0.2561, 0.5119],\n",
            "         [0.8100, 0.6840, 0.1275]],\n",
            "\n",
            "        ...,\n",
            "\n",
            "        [[0.7863, 0.1868, 0.8534],\n",
            "         [0.5522, 0.1866, 0.7799],\n",
            "         [0.2565, 0.3445, 0.3480],\n",
            "         ...,\n",
            "         [0.2592, 0.4526, 0.8129],\n",
            "         [0.6965, 0.9346, 0.5575],\n",
            "         [0.7249, 0.7632, 0.6868]],\n",
            "\n",
            "        [[0.2335, 0.3253, 0.8207],\n",
            "         [0.3608, 0.9737, 0.1043],\n",
            "         [0.6367, 0.2456, 0.0714],\n",
            "         ...,\n",
            "         [0.6153, 0.9508, 0.0033],\n",
            "         [0.2822, 0.8508, 0.0404],\n",
            "         [0.7340, 0.5464, 0.0162]],\n",
            "\n",
            "        [[0.7223, 0.5514, 0.3224],\n",
            "         [0.9235, 0.7346, 0.0480],\n",
            "         [0.6303, 0.2355, 0.1913],\n",
            "         ...,\n",
            "         [0.8417, 0.9809, 0.4507],\n",
            "         [0.8617, 0.5946, 0.1475],\n",
            "         [0.2018, 0.8761, 0.6340]]])\n",
            "dimension =  3\n",
            "shape =  torch.Size([224, 224, 3])\n"
          ]
        }
      ]
    },
    {
      "cell_type": "code",
      "source": [
        "# Tesnors with Zeros\n",
        "ZERO_TENSOR = torch.zeros(3, 4)\n",
        "print(ZERO_TENSOR)\n",
        "print(\"dimension = \", ZERO_TENSOR.ndim)\n",
        "print(\"shape = \", ZERO_TENSOR.shape)\n",
        "\n"
      ],
      "metadata": {
        "colab": {
          "base_uri": "https://localhost:8080/"
        },
        "id": "PShV2rMpwuf9",
        "outputId": "b8fa126a-64d7-4abc-e333-767ba50d68fb"
      },
      "execution_count": 11,
      "outputs": [
        {
          "output_type": "stream",
          "name": "stdout",
          "text": [
            "tensor([[0., 0., 0., 0.],\n",
            "        [0., 0., 0., 0.],\n",
            "        [0., 0., 0., 0.]])\n",
            "dimension =  2\n",
            "shape =  torch.Size([3, 4])\n"
          ]
        }
      ]
    },
    {
      "cell_type": "code",
      "source": [
        "# Tensors with Ones\n",
        "ONES_TENSOR = torch.ones(3, 4)\n",
        "print(ONES_TENSOR)\n",
        "print(\"dimension = \", ONES_TENSOR.ndim)\n",
        "print(\"shape = \", ONES_TENSOR.shape)"
      ],
      "metadata": {
        "colab": {
          "base_uri": "https://localhost:8080/"
        },
        "id": "bZHXWXMIxHOY",
        "outputId": "81774528-6e75-4494-93e4-06a4970bef26"
      },
      "execution_count": 12,
      "outputs": [
        {
          "output_type": "stream",
          "name": "stdout",
          "text": [
            "tensor([[1., 1., 1., 1.],\n",
            "        [1., 1., 1., 1.],\n",
            "        [1., 1., 1., 1.]])\n",
            "dimension =  2\n",
            "shape =  torch.Size([3, 4])\n"
          ]
        }
      ]
    },
    {
      "cell_type": "code",
      "source": [
        "### Torch Range\n",
        "\n",
        "RANGE = torch.arange(0, 10)\n",
        "print(RANGE)\n",
        "print(\"dimension = \", RANGE.ndim)\n",
        "print(\"shape = \", RANGE.shape)"
      ],
      "metadata": {
        "colab": {
          "base_uri": "https://localhost:8080/"
        },
        "id": "bPliqBcWxWfn",
        "outputId": "3140f8ed-2bf4-47fa-db14-e226734450eb"
      },
      "execution_count": 13,
      "outputs": [
        {
          "output_type": "stream",
          "name": "stdout",
          "text": [
            "tensor([0, 1, 2, 3, 4, 5, 6, 7, 8, 9])\n",
            "dimension =  1\n",
            "shape =  torch.Size([10])\n"
          ]
        }
      ]
    },
    {
      "cell_type": "code",
      "source": [
        "RANGE = torch.arange(2, 30000 , 100)\n",
        "print(RANGE)\n",
        "print(\"dimension = \", RANGE.ndim)\n",
        "print(\"shape = \", RANGE.shape)\n"
      ],
      "metadata": {
        "colab": {
          "base_uri": "https://localhost:8080/"
        },
        "id": "wkMtxTI2xTdL",
        "outputId": "0d686801-6e54-425c-c707-136000543cca"
      },
      "execution_count": 14,
      "outputs": [
        {
          "output_type": "stream",
          "name": "stdout",
          "text": [
            "tensor([    2,   102,   202,   302,   402,   502,   602,   702,   802,   902,\n",
            "         1002,  1102,  1202,  1302,  1402,  1502,  1602,  1702,  1802,  1902,\n",
            "         2002,  2102,  2202,  2302,  2402,  2502,  2602,  2702,  2802,  2902,\n",
            "         3002,  3102,  3202,  3302,  3402,  3502,  3602,  3702,  3802,  3902,\n",
            "         4002,  4102,  4202,  4302,  4402,  4502,  4602,  4702,  4802,  4902,\n",
            "         5002,  5102,  5202,  5302,  5402,  5502,  5602,  5702,  5802,  5902,\n",
            "         6002,  6102,  6202,  6302,  6402,  6502,  6602,  6702,  6802,  6902,\n",
            "         7002,  7102,  7202,  7302,  7402,  7502,  7602,  7702,  7802,  7902,\n",
            "         8002,  8102,  8202,  8302,  8402,  8502,  8602,  8702,  8802,  8902,\n",
            "         9002,  9102,  9202,  9302,  9402,  9502,  9602,  9702,  9802,  9902,\n",
            "        10002, 10102, 10202, 10302, 10402, 10502, 10602, 10702, 10802, 10902,\n",
            "        11002, 11102, 11202, 11302, 11402, 11502, 11602, 11702, 11802, 11902,\n",
            "        12002, 12102, 12202, 12302, 12402, 12502, 12602, 12702, 12802, 12902,\n",
            "        13002, 13102, 13202, 13302, 13402, 13502, 13602, 13702, 13802, 13902,\n",
            "        14002, 14102, 14202, 14302, 14402, 14502, 14602, 14702, 14802, 14902,\n",
            "        15002, 15102, 15202, 15302, 15402, 15502, 15602, 15702, 15802, 15902,\n",
            "        16002, 16102, 16202, 16302, 16402, 16502, 16602, 16702, 16802, 16902,\n",
            "        17002, 17102, 17202, 17302, 17402, 17502, 17602, 17702, 17802, 17902,\n",
            "        18002, 18102, 18202, 18302, 18402, 18502, 18602, 18702, 18802, 18902,\n",
            "        19002, 19102, 19202, 19302, 19402, 19502, 19602, 19702, 19802, 19902,\n",
            "        20002, 20102, 20202, 20302, 20402, 20502, 20602, 20702, 20802, 20902,\n",
            "        21002, 21102, 21202, 21302, 21402, 21502, 21602, 21702, 21802, 21902,\n",
            "        22002, 22102, 22202, 22302, 22402, 22502, 22602, 22702, 22802, 22902,\n",
            "        23002, 23102, 23202, 23302, 23402, 23502, 23602, 23702, 23802, 23902,\n",
            "        24002, 24102, 24202, 24302, 24402, 24502, 24602, 24702, 24802, 24902,\n",
            "        25002, 25102, 25202, 25302, 25402, 25502, 25602, 25702, 25802, 25902,\n",
            "        26002, 26102, 26202, 26302, 26402, 26502, 26602, 26702, 26802, 26902,\n",
            "        27002, 27102, 27202, 27302, 27402, 27502, 27602, 27702, 27802, 27902,\n",
            "        28002, 28102, 28202, 28302, 28402, 28502, 28602, 28702, 28802, 28902,\n",
            "        29002, 29102, 29202, 29302, 29402, 29502, 29602, 29702, 29802, 29902])\n",
            "dimension =  1\n",
            "shape =  torch.Size([300])\n"
          ]
        }
      ]
    },
    {
      "cell_type": "code",
      "source": [
        "# tensors like\n",
        "TENSOR_LIKE = torch.zeros_like(RANGE)\n",
        "print(TENSOR_LIKE)\n",
        "print(\"dimension = \", TENSOR_LIKE.ndim)\n",
        "print(\"shape = \", TENSOR_LIKE.shape)"
      ],
      "metadata": {
        "colab": {
          "base_uri": "https://localhost:8080/"
        },
        "id": "-Tg4d1gsyXjx",
        "outputId": "3e9c339f-f4de-46fb-bc9a-5d5ce7a4f2fb"
      },
      "execution_count": 17,
      "outputs": [
        {
          "output_type": "stream",
          "name": "stdout",
          "text": [
            "tensor([0, 0, 0, 0, 0, 0, 0, 0, 0, 0, 0, 0, 0, 0, 0, 0, 0, 0, 0, 0, 0, 0, 0, 0,\n",
            "        0, 0, 0, 0, 0, 0, 0, 0, 0, 0, 0, 0, 0, 0, 0, 0, 0, 0, 0, 0, 0, 0, 0, 0,\n",
            "        0, 0, 0, 0, 0, 0, 0, 0, 0, 0, 0, 0, 0, 0, 0, 0, 0, 0, 0, 0, 0, 0, 0, 0,\n",
            "        0, 0, 0, 0, 0, 0, 0, 0, 0, 0, 0, 0, 0, 0, 0, 0, 0, 0, 0, 0, 0, 0, 0, 0,\n",
            "        0, 0, 0, 0, 0, 0, 0, 0, 0, 0, 0, 0, 0, 0, 0, 0, 0, 0, 0, 0, 0, 0, 0, 0,\n",
            "        0, 0, 0, 0, 0, 0, 0, 0, 0, 0, 0, 0, 0, 0, 0, 0, 0, 0, 0, 0, 0, 0, 0, 0,\n",
            "        0, 0, 0, 0, 0, 0, 0, 0, 0, 0, 0, 0, 0, 0, 0, 0, 0, 0, 0, 0, 0, 0, 0, 0,\n",
            "        0, 0, 0, 0, 0, 0, 0, 0, 0, 0, 0, 0, 0, 0, 0, 0, 0, 0, 0, 0, 0, 0, 0, 0,\n",
            "        0, 0, 0, 0, 0, 0, 0, 0, 0, 0, 0, 0, 0, 0, 0, 0, 0, 0, 0, 0, 0, 0, 0, 0,\n",
            "        0, 0, 0, 0, 0, 0, 0, 0, 0, 0, 0, 0, 0, 0, 0, 0, 0, 0, 0, 0, 0, 0, 0, 0,\n",
            "        0, 0, 0, 0, 0, 0, 0, 0, 0, 0, 0, 0, 0, 0, 0, 0, 0, 0, 0, 0, 0, 0, 0, 0,\n",
            "        0, 0, 0, 0, 0, 0, 0, 0, 0, 0, 0, 0, 0, 0, 0, 0, 0, 0, 0, 0, 0, 0, 0, 0,\n",
            "        0, 0, 0, 0, 0, 0, 0, 0, 0, 0, 0, 0])\n",
            "dimension =  1\n",
            "shape =  torch.Size([300])\n"
          ]
        }
      ]
    },
    {
      "cell_type": "code",
      "source": [
        "# Tensor Data Types\n",
        "\n",
        "float32_dtype_tensor = torch.tensor([3.0, 6.0, 9.0],\n",
        "                                    dtype= None,\n",
        "                                    device=None,\n",
        "                                    requires_grad=False)\n",
        "print(float32_dtype_tensor)\n",
        "print(\"dimension = \", float32_dtype_tensor.ndim)\n",
        "print(\"shape = \", float32_dtype_tensor.shape)\n",
        "print(\"dtype = \", float32_dtype_tensor.dtype)"
      ],
      "metadata": {
        "colab": {
          "base_uri": "https://localhost:8080/"
        },
        "id": "WFdh9r5AzDZb",
        "outputId": "81ff2f12-2cb0-427f-f3e3-ddbfe1dba5a9"
      },
      "execution_count": 22,
      "outputs": [
        {
          "output_type": "stream",
          "name": "stdout",
          "text": [
            "tensor([3., 6., 9.])\n",
            "dimension =  1\n",
            "shape =  torch.Size([3])\n",
            "dtype =  torch.float32\n"
          ]
        }
      ]
    },
    {
      "cell_type": "code",
      "source": [
        "float16_dtype_tensor = torch.tensor([3.0, 6.0, 9.0],\n",
        "                                    dtype= torch.float16,\n",
        "                                    device=None,\n",
        "                                    requires_grad=False)\n",
        "print(float16_dtype_tensor)\n",
        "print(\"dimension = \", float16_dtype_tensor.ndim)\n",
        "print(\"shape = \", float16_dtype_tensor.shape)\n",
        "print(\"dtype = \", float16_dtype_tensor.dtype)"
      ],
      "metadata": {
        "colab": {
          "base_uri": "https://localhost:8080/"
        },
        "id": "9bYc2oAz9AlA",
        "outputId": "84df05dc-37bf-4397-887b-3b0415ca40be"
      },
      "execution_count": 26,
      "outputs": [
        {
          "output_type": "stream",
          "name": "stdout",
          "text": [
            "tensor([3., 6., 9.], dtype=torch.float16)\n",
            "dimension =  1\n",
            "shape =  torch.Size([3])\n",
            "dtype =  torch.float16\n"
          ]
        }
      ]
    },
    {
      "cell_type": "code",
      "source": [
        "TENSOR_MUL= float16_dtype_tensor * float32_dtype_tensor\n",
        "print(TENSOR_MUL)\n",
        "print(\"dimension = \", TENSOR_MUL.ndim)\n",
        "print(\"shape = \", TENSOR_MUL.shape)\n",
        "print(\"dtype = \", TENSOR_MUL.dtype)"
      ],
      "metadata": {
        "colab": {
          "base_uri": "https://localhost:8080/"
        },
        "id": "Mfhghcb_znuL",
        "outputId": "f3ba3ebf-5bcb-45e8-ee86-e002b1220b83"
      },
      "execution_count": 28,
      "outputs": [
        {
          "output_type": "stream",
          "name": "stdout",
          "text": [
            "tensor([ 9., 36., 81.])\n",
            "dimension =  1\n",
            "shape =  torch.Size([3])\n",
            "dtype =  torch.float32\n"
          ]
        }
      ]
    },
    {
      "cell_type": "code",
      "source": [
        "int32_dtype_tensor = torch.tensor([3, 6, 9],\n",
        "                                    dtype= torch.int32,\n",
        "                                    device=None,\n",
        "                                    requires_grad=False)\n",
        "print(int32_dtype_tensor)\n",
        "print(\"dimension = \", int32_dtype_tensor.ndim)\n",
        "print(\"shape = \", int32_dtype_tensor.shape)\n",
        "print(\"dtype = \", int32_dtype_tensor.dtype)"
      ],
      "metadata": {
        "colab": {
          "base_uri": "https://localhost:8080/"
        },
        "id": "hnLtsepYyTgv",
        "outputId": "a6eba4c0-3c5f-469a-c0fb-a6a168ddbfc8"
      },
      "execution_count": 34,
      "outputs": [
        {
          "output_type": "stream",
          "name": "stdout",
          "text": [
            "tensor([3, 6, 9], dtype=torch.int32)\n",
            "dimension =  1\n",
            "shape =  torch.Size([3])\n",
            "dtype =  torch.int32\n"
          ]
        }
      ]
    },
    {
      "cell_type": "code",
      "source": [],
      "metadata": {
        "id": "N9aLNcWlA-CT"
      },
      "execution_count": null,
      "outputs": []
    },
    {
      "cell_type": "code",
      "source": [
        "TENSOR_MUL= float16_dtype_tensor * float32_dtype_tensor\n",
        "print(TENSOR_MUL)\n",
        "print(\"dimension = \", TENSOR_MUL.ndim)\n",
        "print(\"shape = \", TENSOR_MUL.shape)\n",
        "print(\"dtype = \", TENSOR_MUL.dtype)"
      ],
      "metadata": {
        "colab": {
          "base_uri": "https://localhost:8080/"
        },
        "id": "FzXH8qCx__Oe",
        "outputId": "f66ed00b-d88a-4807-c064-d09a61a309cf"
      },
      "execution_count": 30,
      "outputs": [
        {
          "output_type": "stream",
          "name": "stdout",
          "text": [
            "tensor([ 27., 216., 729.])\n",
            "dimension =  1\n",
            "shape =  torch.Size([3])\n",
            "dtype =  torch.float32\n"
          ]
        }
      ]
    },
    {
      "cell_type": "code",
      "source": [
        "#### Get Information from Tensor\n",
        "\n",
        "print(TENSOR_MUL)\n",
        "print(\"dimension = \", TENSOR_MUL.ndim)\n",
        "print(\"shape = \", TENSOR_MUL.shape)\n",
        "print(\"dtype = \", TENSOR_MUL.dtype)\n",
        "print(\"device = \", TENSOR_MUL.device)"
      ],
      "metadata": {
        "colab": {
          "base_uri": "https://localhost:8080/"
        },
        "id": "qy1_E8ZgADSS",
        "outputId": "0ca55218-5361-47c3-d4cc-b5308c0a262e"
      },
      "execution_count": 31,
      "outputs": [
        {
          "output_type": "stream",
          "name": "stdout",
          "text": [
            "tensor([ 27., 216., 729.])\n",
            "dimension =  1\n",
            "shape =  torch.Size([3])\n",
            "dtype =  torch.float32\n",
            "device =  cpu\n"
          ]
        }
      ]
    },
    {
      "cell_type": "code",
      "source": [],
      "metadata": {
        "id": "_pZ9ynqJyO0W"
      },
      "execution_count": null,
      "outputs": []
    }
  ]
}