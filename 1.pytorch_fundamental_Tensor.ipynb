{
  "nbformat": 4,
  "nbformat_minor": 0,
  "metadata": {
    "colab": {
      "provenance": [],
      "gpuType": "T4"
    },
    "kernelspec": {
      "name": "python3",
      "display_name": "Python 3"
    },
    "language_info": {
      "name": "python"
    },
    "accelerator": "GPU"
  },
  "cells": [
    {
      "cell_type": "code",
      "source": [
        "## Pytorch fundamental Tensor Fundamentals"
      ],
      "metadata": {
        "id": "FVXq7n9Cf8Wm"
      },
      "execution_count": 42,
      "outputs": []
    },
    {
      "cell_type": "code",
      "execution_count": 1,
      "metadata": {
        "colab": {
          "base_uri": "https://localhost:8080/"
        },
        "id": "Z7nDpL7se8bx",
        "outputId": "4278980a-ddb5-40d7-c178-43a7723e2a29"
      },
      "outputs": [
        {
          "output_type": "stream",
          "name": "stdout",
          "text": [
            "This is my first goole program\n"
          ]
        }
      ],
      "source": [
        "print (\"This is my first goole program\")"
      ]
    },
    {
      "cell_type": "code",
      "source": [
        "!nvidia-smi"
      ],
      "metadata": {
        "colab": {
          "base_uri": "https://localhost:8080/"
        },
        "id": "m3Bjv7uwfUZe",
        "outputId": "37ddb02b-e77c-44d7-f9a2-c10fe95fb773"
      },
      "execution_count": 2,
      "outputs": [
        {
          "output_type": "stream",
          "name": "stdout",
          "text": [
            "Sat Jul 26 16:09:12 2025       \n",
            "+-----------------------------------------------------------------------------------------+\n",
            "| NVIDIA-SMI 550.54.15              Driver Version: 550.54.15      CUDA Version: 12.4     |\n",
            "|-----------------------------------------+------------------------+----------------------+\n",
            "| GPU  Name                 Persistence-M | Bus-Id          Disp.A | Volatile Uncorr. ECC |\n",
            "| Fan  Temp   Perf          Pwr:Usage/Cap |           Memory-Usage | GPU-Util  Compute M. |\n",
            "|                                         |                        |               MIG M. |\n",
            "|=========================================+========================+======================|\n",
            "|   0  Tesla T4                       Off |   00000000:00:04.0 Off |                    0 |\n",
            "| N/A   55C    P8             12W /   70W |       0MiB /  15360MiB |      0%      Default |\n",
            "|                                         |                        |                  N/A |\n",
            "+-----------------------------------------+------------------------+----------------------+\n",
            "                                                                                         \n",
            "+-----------------------------------------------------------------------------------------+\n",
            "| Processes:                                                                              |\n",
            "|  GPU   GI   CI        PID   Type   Process name                              GPU Memory |\n",
            "|        ID   ID                                                               Usage      |\n",
            "|=========================================================================================|\n",
            "|  No running processes found                                                             |\n",
            "+-----------------------------------------------------------------------------------------+\n"
          ]
        }
      ]
    },
    {
      "cell_type": "code",
      "source": [
        "import torch\n",
        "print (torch.__version__)"
      ],
      "metadata": {
        "colab": {
          "base_uri": "https://localhost:8080/"
        },
        "id": "c-uncLQ0fttV",
        "outputId": "310480f3-29d1-4867-ce54-39475730289c"
      },
      "execution_count": 1,
      "outputs": [
        {
          "output_type": "stream",
          "name": "stdout",
          "text": [
            "2.6.0+cu124\n"
          ]
        }
      ]
    },
    {
      "cell_type": "code",
      "source": [
        "## Introduction to Tensor\n",
        "\n",
        "# Scalar\n",
        "\n",
        "scalar = torch.tensor(7)\n",
        "print(scalar)\n",
        "print(scalar.ndim)\n",
        "print(scalar.item())\n",
        "\n",
        "# Vector\n",
        "vector = torch.tensor([8, 8])\n",
        "print(vector)\n",
        "print(vector.ndim)\n",
        "print(vector.shape)\n",
        "\n",
        "# matrix\n",
        "matrix = torch.tensor([ [1, 2, 2],\n",
        "                        [3, 4, 3],\n",
        "                        [5, 6, 8],\n",
        "                        [2, 4, 5]])\n",
        "\n",
        "print(matrix)\n",
        "print(\"dimension = \", matrix.ndim)\n",
        "print(\"shape = \", matrix.shape)\n",
        "print(\" matrix[0] = \", matrix[0])\n",
        "print(\" matrix[0][0] = \", matrix[0][0])\n",
        "print(\" matrix[0][0].item() = \", matrix[0][0].item())\n",
        "print(\" matrix[1] = \", matrix[1])\n",
        "\n",
        "### Creating Tensors"
      ],
      "metadata": {
        "colab": {
          "base_uri": "https://localhost:8080/"
        },
        "id": "Tu27ft3hghEs",
        "outputId": "81a2100a-5215-4707-c21f-56e4a3277881"
      },
      "execution_count": 40,
      "outputs": [
        {
          "output_type": "stream",
          "name": "stdout",
          "text": [
            "tensor(7)\n",
            "0\n",
            "7\n",
            "tensor([8, 8])\n",
            "1\n",
            "torch.Size([2])\n",
            "tensor([[1, 2, 2],\n",
            "        [3, 4, 3],\n",
            "        [5, 6, 8],\n",
            "        [2, 4, 5]])\n",
            "dimension =  2\n",
            "shape =  torch.Size([4, 3])\n",
            " matrix[0] =  tensor([1, 2, 2])\n",
            " matrix[0][0] =  tensor(1)\n",
            " matrix[0][0].item() =  1\n",
            " matrix[1] =  tensor([3, 4, 3])\n"
          ]
        }
      ]
    },
    {
      "cell_type": "code",
      "source": [
        "TENSOR = torch.tensor([[ [1, 2, 3],\n",
        "                         [4, 5, 6],\n",
        "                         [7, 8, 9],\n",
        "                         [7, 8, 9]],\n",
        "                       [ [1, 2, 3],\n",
        "                         [4, 5, 6],\n",
        "                         [7, 8, 9],\n",
        "                         [7, 8, 9]],\n",
        "                       [ [1, 2, 3],\n",
        "                         [4, 5, 6],\n",
        "                         [7, 8, 9],\n",
        "                         [7, 8, 9]],\n",
        "                       [ [1, 2, 3],\n",
        "                         [4, 5, 6],\n",
        "                         [7, 8, 9],\n",
        "                         [7, 8, 9]]\n",
        "                      ])\n",
        "print(TENSOR)\n",
        "print(\"dimension = \", TENSOR.ndim)\n",
        "print(\"shape = \", TENSOR.shape)"
      ],
      "metadata": {
        "colab": {
          "base_uri": "https://localhost:8080/"
        },
        "id": "3KozCzBWhg8U",
        "outputId": "1e30d55e-63b6-44b5-9aed-a95bf6ee37a9"
      },
      "execution_count": 41,
      "outputs": [
        {
          "output_type": "stream",
          "name": "stdout",
          "text": [
            "tensor([[[1, 2, 3],\n",
            "         [4, 5, 6],\n",
            "         [7, 8, 9],\n",
            "         [7, 8, 9]],\n",
            "\n",
            "        [[1, 2, 3],\n",
            "         [4, 5, 6],\n",
            "         [7, 8, 9],\n",
            "         [7, 8, 9]],\n",
            "\n",
            "        [[1, 2, 3],\n",
            "         [4, 5, 6],\n",
            "         [7, 8, 9],\n",
            "         [7, 8, 9]],\n",
            "\n",
            "        [[1, 2, 3],\n",
            "         [4, 5, 6],\n",
            "         [7, 8, 9],\n",
            "         [7, 8, 9]]])\n",
            "dimension =  3\n",
            "shape =  torch.Size([4, 4, 3])\n"
          ]
        }
      ]
    },
    {
      "cell_type": "code",
      "source": [],
      "metadata": {
        "id": "QUIz_jgUprCk"
      },
      "execution_count": 38,
      "outputs": []
    }
  ]
}